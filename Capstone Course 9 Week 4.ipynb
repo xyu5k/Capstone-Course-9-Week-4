{
    "nbformat_minor": 1, 
    "cells": [
        {
            "source": "Capstone Course 9 Week 4", 
            "cell_type": "markdown", 
            "metadata": {
                "collapsed": true
            }
        }, 
        {
            "source": "Identification of Filipino Speaking Population and Opportunities for Business and Employment in Toronto Canada", 
            "cell_type": "markdown", 
            "metadata": {}
        }, 
        {
            "source": "Introduction\nFilipino Canadians are Canadians of Filipino descent or people born in the Philippines who are citizens of Canada. Filipino Canadians are the third largest subgroup of the overseas Filipinos and one of the fastest growing groups in Canada.\n\nMost Canadians of Filipino origin can converse in one of Canada's official languages. In 2001, 99% said they could converse in one or both official languages, while 1% reported they could speak neither English nor French. Most, 93%, could carry on a conversation in English only, while 6% could converse in both English and French and below 1% spoke French only. In 2001, 59% of the Filipino community said that their mother tongue was a non-official language, while 41% said that their mother tongue was English and 1% said that it was French. 60% of the Filipino community considered Tagalog their mother tongue.", 
            "cell_type": "markdown", 
            "metadata": {}
        }, 
        {
            "source": "Business Situation\nAs a Filipino who would like to start a business in Toronto, the planning, execution, and maintenance depends on the demographics of the population that the business may mainly cater to.\n\nCanadian adults of Filipino origin are more likely than the rest of the population to have a university degree. In 2001, 31% of Canadians of Filipino origin aged 15 and over had either a bachelor or post-graduate degree. Canadians of Filipino origin with post-secondary qualifications are more likely to hold degrees in highly technical fields. In 2001, people of Filipino origin accounted for 2% of university graduates in Canada. In 2001, studies show that 33% of women of Filipino origin had a university degree, compared to 27% of their male counterparts.\n\nAs such, identifying a location to establish a business that is best suited to cater to the growing Filipino Canadian population in Toronto as a clientele and, at the same time, create employment opportunities for Filipinos may be a consideration when planning to build a business in the area.", 
            "cell_type": "markdown", 
            "metadata": {}
        }, 
        {
            "execution_count": null, 
            "cell_type": "code", 
            "metadata": {}, 
            "outputs": [], 
            "source": "Foursquare and Language in Business Solution\nUsing Foursquare, identification of the location that have the largest population of Filipinos and identifying the industries present in the said location may be useful in planning the kind of business to introduce in the area. The business would ideally be useful for the present industries and provide a means for the business to start small and grow in the community."
        }
    ], 
    "metadata": {
        "kernelspec": {
            "display_name": "Python 3.5", 
            "name": "python3", 
            "language": "python"
        }, 
        "language_info": {
            "mimetype": "text/x-python", 
            "nbconvert_exporter": "python", 
            "version": "3.5.5", 
            "name": "python", 
            "file_extension": ".py", 
            "pygments_lexer": "ipython3", 
            "codemirror_mode": {
                "version": 3, 
                "name": "ipython"
            }
        }
    }, 
    "nbformat": 4
}